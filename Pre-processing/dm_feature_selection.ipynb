{
  "cells": [
    {
      "cell_type": "markdown",
      "metadata": {
        "id": "QYFJTV2_8-YB"
      },
      "source": [
        " ## Feature Selection\n",
        "\n",
        " In real life applications, it's rare to have all of the features useful for building a data mining model. It's important to remove redundant or non-informative features from the dataset. First and foremost, the more the features are incorporated into the model, the more complicated the model becomes. If we're adding redundant or non-informative features to the equation, we increase the processing power demand, which very often is already pretty high. In some rare cases, the less useful features reduce the accuracy of the model (it depends on the used techniques, very often that's not the case). Nonetheless feature selection is one of the core processes, next to the data normalization and feature engineering, applied to the data prior to perfmorming the actual data mining techniques. This notebook covers the commonly used Feature Selection techniques, which are a part of the sklearn feature_selection module. Let's start by importing the modules to the nodebook."
      ]
    },
    {
      "cell_type": "code",
      "execution_count": null,
      "metadata": {
        "ExecuteTime": {
          "end_time": "2021-03-30T18:18:05.055255Z",
          "start_time": "2021-03-30T18:18:03.923055Z"
        },
        "id": "jk98Qo9nxB9r"
      },
      "outputs": [],
      "source": [
        "from sklearn import datasets, preprocessing, feature_selection\n",
        "from itertools import compress\n",
        "\n",
        "import pandas as pd\n",
        "import numpy as np\n",
        "import matplotlib.pyplot as plt"
      ]
    },
    {
      "cell_type": "markdown",
      "metadata": {
        "id": "Y9ocIQM2xB9t"
      },
      "source": [
        "# Dataset"
      ]
    },
    {
      "cell_type": "markdown",
      "metadata": {
        "id": "LmZUx7yLxB9u"
      },
      "source": [
        "In this excercise we will use the [Wine](https://archive.ics.uci.edu/ml/datasets/wine) dataset available in the `scikit-learn` library. After loading the dataset display its description and familiarize yourself with the interpretation of features."
      ]
    },
    {
      "cell_type": "code",
      "execution_count": null,
      "metadata": {
        "ExecuteTime": {
          "end_time": "2021-03-30T18:18:07.622410Z",
          "start_time": "2021-03-30T18:18:07.609541Z"
        },
        "colab": {
          "base_uri": "https://localhost:8080/"
        },
        "id": "JZSARB8qxB9u",
        "outputId": "cfbdcf86-f8fa-47dc-a1b0-f49831987c57"
      },
      "outputs": [],
      "source": [
        "wine = datasets.load_wine()\n",
        "\n",
        "print(wine.DESCR)\n",
        "\n",
        "print('Data shape: ', wine.data.shape)"
      ]
    },
    {
      "cell_type": "markdown",
      "metadata": {
        "id": "gM-MNnL0LVpD"
      },
      "source": [
        "Let's prepare a dataframe for the wine dataset."
      ]
    },
    {
      "cell_type": "code",
      "execution_count": null,
      "metadata": {
        "colab": {
          "base_uri": "https://localhost:8080/",
          "height": 424
        },
        "id": "s9SQjCEO8aKA",
        "outputId": "1fe1a959-d51a-4f28-b09f-f7e5079e63a4"
      },
      "outputs": [],
      "source": [
        "wine_dataframe = pd.DataFrame(wine.data,columns = wine.feature_names)\n",
        "wine_dataframe"
      ]
    },
    {
      "cell_type": "markdown",
      "metadata": {
        "id": "cEWrNttlxB9v"
      },
      "source": [
        "## Removing attributes with low variance"
      ]
    },
    {
      "cell_type": "markdown",
      "metadata": {
        "id": "1v35A4p7xB9v"
      },
      "source": [
        "Obviously, the features which share very similar values across the entire dataset are not going to be useful. We can remove those variables with a tool, which is called [VarianceThreshold](http://scikit-learn.org/stable/modules/generated/sklearn.feature_selection.VarianceThreshold.html#sklearn.feature_selection.VarianceThreshold). Prior to applying this tool let's check the variance of each feature."
      ]
    },
    {
      "cell_type": "code",
      "execution_count": null,
      "metadata": {
        "ExecuteTime": {
          "end_time": "2021-03-30T18:19:09.606369Z",
          "start_time": "2021-03-30T18:19:09.601919Z"
        },
        "colab": {
          "base_uri": "https://localhost:8080/"
        },
        "id": "emlpOpvuxB9v",
        "outputId": "f2921ce2-b05b-4513-b306-06dfcd915dd3"
      },
      "outputs": [],
      "source": [
        "wine_dataframe.std()**2"
      ]
    },
    {
      "cell_type": "markdown",
      "metadata": {
        "id": "PaDlQ7dxO7Lr"
      },
      "source": [
        "We can now observe the importance of normalization. Obviously, the values of the `magnesium` feature are a few orders of magnitude higher than the values of the `hue` feature. The default, most common setting of the variance threshold method gets rid of the features, which have a variance of 0 (all of the values are the same across the entire dataset). If however we wanted to apply this method with a custom threshold we need to perform some kind of normalization scheme. Let's start with standarization."
      ]
    },
    {
      "cell_type": "code",
      "execution_count": null,
      "metadata": {
        "colab": {
          "base_uri": "https://localhost:8080/"
        },
        "id": "UKjcCMDbP7C6",
        "outputId": "05d7cfaa-f07c-468f-ea6b-8402de3b781a"
      },
      "outputs": [],
      "source": [
        "#we import standarizer\n",
        "from sklearn.preprocessing import StandardScaler\n",
        "#initialize it\n",
        "scaler = StandardScaler()\n",
        "#calculate all the necessary data to perform the standarization\n",
        "scaler.fit(wine_dataframe)\n",
        "#apply the standarizer to the data\n",
        "wine_dataframe_standarized = pd.DataFrame(scaler.transform(wine_dataframe),columns = wine.feature_names)\n",
        "wine_dataframe_standarized.std()**2"
      ]
    },
    {
      "cell_type": "markdown",
      "metadata": {
        "id": "YsaKkBFHQuzT"
      },
      "source": [
        "In that case the custom Variance Threshold wouldn't make much sense either. After all the standarization process has normalized the variance for each of the features. Let's take a look at min-max normalzation."
      ]
    },
    {
      "cell_type": "code",
      "execution_count": null,
      "metadata": {
        "colab": {
          "base_uri": "https://localhost:8080/"
        },
        "id": "rA09C4J2QuLJ",
        "outputId": "6ca3b8b3-ec5e-445f-c8b9-8d3b6ea5468a"
      },
      "outputs": [],
      "source": [
        "#we import normalizer\n",
        "from sklearn.preprocessing import MinMaxScaler\n",
        "#initialize it\n",
        "scaler = MinMaxScaler()\n",
        "#calculate all the necessary data to perform the normalization\n",
        "scaler.fit(wine_dataframe)\n",
        "#apply the standarizer to the data\n",
        "wine_dataframe_normalized = pd.DataFrame(scaler.transform(wine_dataframe),columns = wine.feature_names)\n",
        "wine_dataframe_normalized.std()**2"
      ]
    },
    {
      "cell_type": "markdown",
      "metadata": {
        "id": "-2adznaMSfj7"
      },
      "source": [
        "As you can see all of the variables have relatively low variance, but by no means niether of them have a close to zero variance. We can compare the variables by their variance, but a raw threshold should be used only for near zero or zero variance features. Here's how we can apply the tool to the data. In this example the threshold is set to 0.03, just to show how the method works. In fact, here we shouldn't remove any of the features, as the variance is way too high."
      ]
    },
    {
      "cell_type": "code",
      "execution_count": null,
      "metadata": {
        "ExecuteTime": {
          "end_time": "2021-03-30T18:19:36.587183Z",
          "start_time": "2021-03-30T18:19:36.552334Z"
        },
        "colab": {
          "base_uri": "https://localhost:8080/",
          "height": 424
        },
        "id": "A5zSW5JuxB9w",
        "outputId": "450f56b4-e288-4637-871e-8c3e9063b43a"
      },
      "outputs": [],
      "source": [
        "from sklearn.feature_selection import VarianceThreshold\n",
        "#we create a variance threshold object\n",
        "sel = VarianceThreshold(threshold=0.03)\n",
        "#we apply the method to the data - this method does not create a new dataframe, just a numpy array\n",
        "wine_variance_removed = sel.fit_transform(wine_dataframe_normalized)\n",
        "#we can create a new dataframe using the get_feature_names_out() function to get the names of the selected columns\n",
        "wine_dataframe_variance_removed = pd.DataFrame(wine_variance_removed, columns = sel.get_feature_names_out())\n",
        "wine_dataframe_variance_removed"
      ]
    },
    {
      "cell_type": "markdown",
      "metadata": {
        "id": "HXhTfLZkUjEM"
      },
      "source": [
        "We can also see, which features should be removed with the get_support() function."
      ]
    },
    {
      "cell_type": "code",
      "execution_count": null,
      "metadata": {
        "colab": {
          "base_uri": "https://localhost:8080/"
        },
        "id": "6p_AqNpcUiHP",
        "outputId": "54945625-09e9-46ff-aa1d-6970b75eec31"
      },
      "outputs": [],
      "source": [
        "sel.get_support()"
      ]
    },
    {
      "cell_type": "markdown",
      "metadata": {
        "id": "pKoi9j7exB9w"
      },
      "source": [
        "## Select k best features\n",
        "\n",
        "You probably saw that we can rank the features using the variance. In fact it's a common practice to rank the features. If it is necesseary to reduce complexity of the model, we can pick the variables, which have the best scores. Before we go to the code, let's go trough the ranking functions. The ranking functions can be divided into two classes:\n",
        "  - unsupervised - the ranking score is calculated with use of the statistical information:\n",
        "       - Variance - it is used to remove features, which do not yield any information\n",
        "       - Correlation - it is used to remove features, which are redundant\n",
        "\n",
        "  - supervised - in this case, the ranking score is related to the usefulness of the feature in the context of discovering the target values (e.g. how useful would be that feature if we applied linear regression to discover the target value):\n",
        "\n",
        "     - Chi-squared score ([chi2](https://scikit-learn.org/stable/modules/generated/sklearn.feature_selection.chi2.html#sklearn.feature_selection.chi2))\n",
        "     - ANOVA score ([f_classif](https://scikit-learn.org/stable/modules/generated/sklearn.feature_selection.f_classif.html#sklearn.feature_selection.f_classif))\n",
        "     - Information Gain ([mutual_info_classif](https://scikit-learn.org/stable/modules/generated/sklearn.feature_selection.mutual_info_classif.html#sklearn.feature_selection.mutual_info_classif))\n",
        "     - Linear Regression f-value ([f_regression](https://scikit-learn.org/stable/modules/generated/sklearn.feature_selection.f_regression.html#sklearn.feature_selection.f_regression))\n",
        "\n",
        "We have already investiaged the Variance. Let's take a look at correlation. Calculating correlation is as simple as calling the [corr()](https://pandas.pydata.org/docs/reference/api/pandas.DataFrame.corr.html) function on the pandas dataframe. "
      ]
    },
    {
      "cell_type": "code",
      "execution_count": null,
      "metadata": {
        "colab": {
          "base_uri": "https://localhost:8080/",
          "height": 521
        },
        "id": "faP3oMSLbmN_",
        "outputId": "5fab3d71-0cfd-4365-cfda-ebe04f0e1cd4"
      },
      "outputs": [],
      "source": [
        "wine_dataframe_normalized.corr()"
      ]
    },
    {
      "cell_type": "markdown",
      "metadata": {
        "id": "MGfxoWmhcGem"
      },
      "source": [
        "We can see the correlation values, however making sense of the table by hand would take a lot of effort. Let's help ourselves with some formatting. Here we will use a [seaborn](https://seaborn.pydata.org/) library - it is a visualization tool based on the matplotlib. Usually you import seabron with an sns alias.\n"
      ]
    },
    {
      "cell_type": "code",
      "execution_count": null,
      "metadata": {
        "id": "NBZUoq0ta2w0"
      },
      "outputs": [],
      "source": [
        "import seaborn as sns\n",
        "#we are importing pyplot, just to change the size of the picture\n",
        "import matplotlib.pyplot as plt"
      ]
    },
    {
      "cell_type": "markdown",
      "metadata": {
        "id": "pss1aDPwceUM"
      },
      "source": [
        "The correlation heatmap is drawn with the (who would've guessed) [heatmap()](https://seaborn.pydata.org/generated/seaborn.heatmap.html) function. This drawing can be specified in detail, but the simpliest use just takes the correlation values as the first argument of the function (here we also use the [colormap](https://matplotlib.org/stable/tutorials/colors/colormaps.html) argument, which is optional)."
      ]
    },
    {
      "cell_type": "code",
      "execution_count": null,
      "metadata": {
        "colab": {
          "base_uri": "https://localhost:8080/",
          "height": 649
        },
        "id": "UEkq-XzWcdxn",
        "outputId": "6e1c7c9d-9ae3-4eaf-d393-0aef02a9a3fc"
      },
      "outputs": [],
      "source": [
        "#this just sets the size of a picture\n",
        "plt.figure(figsize=(10,8))\n",
        "#here we draw the heatmap\n",
        "sns.heatmap(wine_dataframe_normalized.corr(), cmap='YlOrRd')"
      ]
    },
    {
      "cell_type": "markdown",
      "metadata": {
        "id": "wI5yBhzvg3z3"
      },
      "source": [
        "Notice, that the correlation values don't change if we do not apply normalization schema."
      ]
    },
    {
      "cell_type": "code",
      "execution_count": null,
      "metadata": {
        "colab": {
          "base_uri": "https://localhost:8080/",
          "height": 649
        },
        "id": "KpXovZA6gyzL",
        "outputId": "47958eba-d183-4536-c0ce-55947a4bc89d"
      },
      "outputs": [],
      "source": [
        "#this just sets the size of a picture\n",
        "plt.figure(figsize=(10,8))\n",
        "#here we draw the heatmap\n",
        "sns.heatmap(wine_dataframe.corr(), cmap='YlOrRd')"
      ]
    },
    {
      "cell_type": "markdown",
      "metadata": {
        "id": "LSVey7T4d0CJ"
      },
      "source": [
        "We observe a large number of strong correlations, but the features `total_phenols` and `flavanoids` stick out as very strongly correlated and thus are very likely redundant. Whenever we encounter two variables, which are very strongly correlated we can get rid of one of them. It is also useful to add the target values to the correlation analysis, we usually pick the feature, which has a stronger correlation with the target value.\n",
        "\n",
        "Let's go to the `supervised` feature scores. We can calculate the absolute values of the scores directly with use of the specific implementation ([chi2](https://scikit-learn.org/stable/modules/generated/sklearn.feature_selection.chi2.html#sklearn.feature_selection.chi2), [f_classif](https://scikit-learn.org/stable/modules/generated/sklearn.feature_selection.f_classif.html#sklearn.feature_selection.f_classif) ,[mutual_info_classif](https://scikit-learn.org/stable/modules/generated/sklearn.feature_selection.mutual_info_classif.html#sklearn.feature_selection.mutual_info_classif), [f_regression](https://scikit-learn.org/stable/modules/generated/sklearn.feature_selection.f_regression.html#sklearn.feature_selection.f_regression)). The function either returns the score for each feature or the set of scores and [p-values](https://en.wikipedia.org/wiki/P-value). We are not going to use p-values here."
      ]
    },
    {
      "cell_type": "code",
      "execution_count": null,
      "metadata": {
        "colab": {
          "base_uri": "https://localhost:8080/",
          "height": 1000
        },
        "id": "4Sd0G_zXdzMj",
        "outputId": "20b41716-0c34-4c0c-d20e-b18a18d091a3"
      },
      "outputs": [],
      "source": [
        "from sklearn.feature_selection import f_regression, chi2, f_classif, mutual_info_classif\n",
        "\n",
        "scores_regression, p_vals_reg = f_regression(wine_dataframe_normalized, wine.target)\n",
        "scores_chi2, p_vals_chi2 = chi2(wine_dataframe_normalized, wine.target)\n",
        "scores_anova, p_vals_anova = f_classif(wine_dataframe_normalized, wine.target)\n",
        "scores_mi = mutual_info_classif(wine_dataframe_normalized, wine.target)\n",
        "pd.DataFrame(scores_regression, wine.feature_names).plot(kind='barh', title='Regression')\n",
        "pd.DataFrame(scores_chi2, wine.feature_names).plot(kind='barh', title='Chi squared')\n",
        "pd.DataFrame(scores_anova, wine.feature_names).plot(kind='barh', title='ANOVA')\n",
        "pd.DataFrame(scores_mi, wine.feature_names).plot(kind='barh', title='Mutual Information')\n",
        "\n"
      ]
    },
    {
      "cell_type": "markdown",
      "metadata": {
        "id": "fCfKQ7P5pReH"
      },
      "source": [
        "Now the scores can be used to get the best performing features. Here we can either use [SelectKBest](https://scikit-learn.org/stable/modules/generated/sklearn.feature_selection.SelectKBest.html) class, optionally combined with SelectFpr, SelectFdr or SelectFwe functions, or the [GenericUnivariateSelect](https://scikit-learn.org/stable/modules/generated/sklearn.feature_selection.GenericUnivariateSelect.html#sklearn.feature_selection.GenericUnivariateSelect) class. The FPR, FDR and FWE stand for False Positive Rate test, False Discovery Rate test and Family-Wise Error. Selecting a proper strategy is related to the task at hand. There are 4 possible strategies to choose from:\n",
        " - KBest - simply choose the best performing features,\n",
        " - False positive rate: is the probability of falsely rejecting the null hypothesis (https://en.wikipedia.org/wiki/False_positive_rate),\n",
        " - False discovery rate: is the expected rate of false rejections from all discoveries, i.e. all rejected hypotheses (https://en.wikipedia.org/wiki/False_discovery_rate),\n",
        " - Family wise error rate: is the probability of incurring at least one false positive among all discoveries (https://en.wikipedia.org/wiki/Family-wise_error_rate)\n",
        "\n",
        " The KBest strategy is simple. The other strategies use an intermediate value calculated with a specific test (based on p-value and number of samples). We cannot say a priori which of the strategies is going to perform better.\n",
        " - fpr chooses all features whose p-values are below a threshold, thus controlling the false positive rate of selection.\n",
        " - fdr uses the Benjamini-Hochberg procedure to choose all features whose false discovery rate is below a threshold.\n",
        " - fwe chooses all features whose p-values are below a threshold. The threshold is scaled by 1/numFeatures, thus controlling the family-wise error rate of selection.\n",
        "\n",
        "\n",
        " Examples below."
      ]
    },
    {
      "cell_type": "code",
      "execution_count": null,
      "metadata": {
        "colab": {
          "base_uri": "https://localhost:8080/",
          "height": 279
        },
        "id": "5yFZvhvbh6T3",
        "outputId": "4673aee5-d484-48ce-c6d2-c126f235cf6c"
      },
      "outputs": [],
      "source": [
        "from sklearn.feature_selection import GenericUnivariateSelect\n",
        "\n",
        "gus_object = GenericUnivariateSelect(chi2, mode='k_best', param=5)\n",
        "\n",
        "new_data = gus_object.fit_transform(wine_dataframe_normalized,wine.target)\n",
        "new_dataframe = pd.DataFrame(new_data, columns=gus_object.get_feature_names_out())\n",
        "\n",
        "# here we are picking the 1st and 2nd column from the dataframe and take just the values which correspond to each class of the wine\n",
        "# we draw the samples from the first class in red, 2nd in green and 3rd in blue\n",
        "# the easier it is to separate the samples, the better features we picked\n",
        "# here we plot the second and third best features\n",
        "plt.plot(new_dataframe[new_dataframe.columns[1]][wine.target==0],new_dataframe[new_dataframe.columns[2]][wine.target==0], 'r.')\n",
        "plt.plot(new_dataframe[new_dataframe.columns[1]][wine.target==1],new_dataframe[new_dataframe.columns[2]][wine.target==1], 'g.')\n",
        "plt.plot(new_dataframe[new_dataframe.columns[1]][wine.target==2],new_dataframe[new_dataframe.columns[2]][wine.target==2], 'b.')\n",
        "# plt.plot(new_dataframe[new_dataframe.columns[1]][wine.target==2],new_dataframe[new_dataframe.columns[2]][wine.target==2], 't.')\n",
        "plt.xlabel(gus_object.get_feature_names_out()[1])\n",
        "plt.ylabel(gus_object.get_feature_names_out()[2])\n",
        "plt.show()\n"
      ]
    },
    {
      "cell_type": "code",
      "execution_count": null,
      "metadata": {
        "ExecuteTime": {
          "end_time": "2021-03-30T18:20:27.713768Z",
          "start_time": "2021-03-30T18:20:27.578974Z"
        },
        "colab": {
          "base_uri": "https://localhost:8080/",
          "height": 283
        },
        "id": "hcn7xt-2xB9x",
        "outputId": "2ec421f4-aca4-4491-f821-40c1ffaa83fc"
      },
      "outputs": [],
      "source": [
        "from sklearn.feature_selection import SelectKBest, f_regression\n",
        "\n",
        "skb_object = SelectKBest(f_regression, k=2)\n",
        "wine_new = skb_object.fit_transform(wine_dataframe, wine.target)\n",
        "\n",
        "feature1 = wine_new[:, 0]\n",
        "feature2 = wine_new[:, 1]\n",
        "\n",
        "#here we are drawing each sample with a different color\n",
        "#the easier it is to separate the classes, the better is the performance of the picked features\n",
        "plt.plot(feature1[wine.target==0], feature2[wine.target==0], 'r.')\n",
        "plt.plot(feature1[wine.target==1], feature2[wine.target==1], 'g.')\n",
        "plt.plot(feature1[wine.target==2], feature2[wine.target==2], 'b.')\n",
        "plt.xlabel(skb_object.get_feature_names_out()[0])\n",
        "plt.ylabel(skb_object.get_feature_names_out()[1])\n",
        "plt.xlim([np.min(feature1)-1, np.max(feature1)+1])\n",
        "plt.ylim([np.min(feature2)-1, np.max(feature2)+1])\n",
        "plt.show()\n"
      ]
    },
    {
      "cell_type": "markdown",
      "metadata": {
        "id": "3myb9U_sxB9x"
      },
      "source": [
        "## Select features using linear regression and regularization"
      ]
    },
    {
      "cell_type": "markdown",
      "metadata": {
        "id": "J10nk82ExB9x"
      },
      "source": [
        "This method calculates usefulness of a feature on the basis of performed regression, or the classification process. The next example shows how to find the best 2 attributes to predict the type of wine using linear regression, where regression coefficients are regularized with L1. We will use the [SelectFromModel](http://scikit-learn.org/stable/modules/generated/sklearn.feature_selection.SelectFromModel.html#sklearn.feature_selection.SelectFromModel) class. Regularization is available through [LassoCV](http://scikit-learn.org/stable/modules/linear_model.html#lasso) class. In the example, the classification process is performed once. Then, we iteratively compare the feature importances with various values for threshold. You can fiddle with various types of classifiers."
      ]
    },
    {
      "cell_type": "code",
      "execution_count": null,
      "metadata": {
        "ExecuteTime": {
          "end_time": "2021-03-30T18:23:29.687802Z",
          "start_time": "2021-03-30T18:23:29.488862Z"
        },
        "colab": {
          "base_uri": "https://localhost:8080/",
          "height": 1000
        },
        "id": "N8Zo8WRcxB9y",
        "outputId": "70f5e4a0-6a33-44d1-dcd9-5ff8002d5a7d"
      },
      "outputs": [],
      "source": [
        "from sklearn.feature_selection import SelectFromModel\n",
        "from sklearn.linear_model import Perceptron, LassoCV, SGDClassifier, RidgeClassifierCV\n",
        "\n",
        "# clf = Perceptron()\n",
        "# clf = SGDClassifier(penalty='l1', loss='log_loss')\n",
        "# clf = RidgeClassifierCV(cv=10)\n",
        "clf = LassoCV(cv=10)\n",
        "\n",
        "sfm = SelectFromModel(clf, threshold=0.1)\n",
        "sfm.fit(wine_dataframe_normalized, wine.target)\n",
        "n_rows, n_features = sfm.transform(wine_dataframe_normalized).shape\n",
        "\n",
        "while n_features > 2:\n",
        "    sfm.threshold += 0.05\n",
        "    wine_new = sfm.transform(wine_dataframe_normalized)\n",
        "    n_rows, n_features = wine_new.shape\n",
        "    \n",
        "    feature_names = compress(wine_dataframe_normalized.columns, sfm.get_support())\n",
        "    print(f'Threshold={sfm.threshold:.2f} Num features: {n_features}, {list(feature_names)}')\n",
        "\n",
        "feature1 = wine_new[:, 0]\n",
        "feature2 = wine_new[:, 1]\n",
        "\n",
        "plt.plot(feature1[wine.target==0], feature2[wine.target==0], 'r.')\n",
        "plt.plot(feature1[wine.target==1], feature2[wine.target==1], 'g.')\n",
        "plt.plot(feature1[wine.target==2], feature2[wine.target==2], 'b.')\n",
        "plt.xlabel(sfm.get_feature_names_out()[0])\n",
        "plt.ylabel(sfm.get_feature_names_out()[1])\n",
        "plt.ylim([np.min(feature2)-0.1, np.max(feature2)+0.1])\n",
        "plt.xlim([np.min(feature1)-0.1, np.max(feature1)+0.1])\n",
        "plt.show()"
      ]
    },
    {
      "cell_type": "markdown",
      "metadata": {
        "id": "mz2cRjtpxB9y"
      },
      "source": [
        "## Recursive feature selection"
      ]
    },
    {
      "cell_type": "markdown",
      "metadata": {
        "id": "D82mVKaKxB9y"
      },
      "source": [
        "The last example involves the [Recursive Feature Extraction](https://scikit-learn.org/stable/modules/generated/sklearn.feature_selection.RFE.html#sklearn.feature_selection.RFE) class to perform greedy selection of the features by evaluating each subset of features on the dataset using a classifer/regressor."
      ]
    },
    {
      "cell_type": "code",
      "execution_count": null,
      "metadata": {
        "ExecuteTime": {
          "end_time": "2021-03-30T18:26:26.445570Z",
          "start_time": "2021-03-30T18:26:26.289832Z"
        },
        "colab": {
          "base_uri": "https://localhost:8080/",
          "height": 279
        },
        "id": "HT8NKVztxB9z",
        "outputId": "945a7026-3ce7-412a-945a-6850ed6ff50b"
      },
      "outputs": [],
      "source": [
        "from sklearn.feature_selection import RFE\n",
        "from sklearn.tree import DecisionTreeRegressor\n",
        "\n",
        "# object which will be used to score the current selection\n",
        "estimator = DecisionTreeRegressor()\n",
        "\n",
        "# object performing recursive feature selection\n",
        "selector = RFE(estimator, n_features_to_select=2, step=1)\n",
        "\n",
        "selector = selector.fit(wine.data, wine.target)\n",
        "\n",
        "boston_new = wine.data[:,selector.support_]\n",
        "\n",
        "feature1 = boston_new[:, 0]\n",
        "feature2 = boston_new[:, 1]\n",
        "\n",
        "plt.plot(feature1[wine.target==0], feature2[wine.target==0], 'r.')\n",
        "plt.plot(feature1[wine.target==1], feature2[wine.target==1], 'g.')\n",
        "plt.plot(feature1[wine.target==2], feature2[wine.target==2], 'b.')\n",
        "plt.xlabel(selector.get_feature_names_out()[0])\n",
        "plt.ylabel(selector.get_feature_names_out()[1])\n",
        "plt.ylim([np.min(feature2)-100, np.max(feature2)+100])\n",
        "plt.xlim([np.min(feature1)-1, np.max(feature1)+1])\n",
        "plt.show()"
      ]
    },
    {
      "cell_type": "code",
      "execution_count": null,
      "metadata": {
        "ExecuteTime": {
          "end_time": "2021-03-30T18:26:34.978850Z",
          "start_time": "2021-03-30T18:26:34.971616Z"
        },
        "colab": {
          "base_uri": "https://localhost:8080/"
        },
        "id": "kmPYo7HQxB9z",
        "outputId": "9103eb0d-3c77-439d-fe03-899ed6a91957"
      },
      "outputs": [],
      "source": [
        "for (attr, rank, selected) in zip(wine.feature_names, selector.ranking_, selector.support_):\n",
        "    print(f'{attr:>10}:     rank={rank:<2} selected={selected}')"
      ]
    },
    {
      "cell_type": "markdown",
      "metadata": {
        "id": "nmeHciLXxB9z"
      },
      "source": [
        "# Exercise/Homework\n",
        "\n",
        "Use the [sklearn.datasets.make_classification()](http://scikit-learn.org/stable/modules/generated/sklearn.datasets.make_classification.html) function to create a synthetic dataset with 1000 instances and 20 features, where:\n",
        "\n",
        "* 5 features are information-rich\n",
        "* 5 features are superfluous\n",
        "* 5 features are duplicated \n",
        "\n",
        "Use any feature selection methods to select 5 most important attributes. Check if you can manage to discover these 5 truly information-rich features."
      ]
    },
    {
      "cell_type": "code",
      "execution_count": 123,
      "metadata": {},
      "outputs": [
        {
          "data": {
            "text/plain": [
              "<Axes: >"
            ]
          },
          "execution_count": 123,
          "metadata": {},
          "output_type": "execute_result"
        },
        {
          "data": {
            "image/png": "[encoded data removed]",
            "text/plain": [
              "<Figure size 640x480 with 2 Axes>"
            ]
          },
          "metadata": {},
          "output_type": "display_data"
        }
      ],
      "source": [
        "from sklearn.datasets import make_classification\n",
        "dataset = datasets.make_classification(1000, 20, n_informative=5, n_redundant=5, n_repeated=5, n_classes=2, shuffle=False)\n",
        "\n",
        "\n",
        "features, targets = dataset\n",
        "df = pd.DataFrame(features, columns=[f'ft_{i}' for i in range(20)])\n",
        "# df\n",
        "sns.heatmap(df.corr(), cmap='YlOrRd')"
      ]
    },
    {
      "cell_type": "code",
      "execution_count": 121,
      "metadata": {},
      "outputs": [
        {
          "data": {
            "text/html": [
              "<div>\n",
              "<style scoped>\n",
              "    .dataframe tbody tr th:only-of-type {\n",
              "        vertical-align: middle;\n",
              "    }\n",
              "\n",
              "    .dataframe tbody tr th {\n",
              "        vertical-align: top;\n",
              "    }\n",
              "\n",
              "    .dataframe thead th {\n",
              "        text-align: right;\n",
              "    }\n",
              "</style>\n",
              "<table border=\"1\" class=\"dataframe\">\n",
              "  <thead>\n",
              "    <tr style=\"text-align: right;\">\n",
              "      <th></th>\n",
              "      <th>ft_0</th>\n",
              "      <th>ft_2</th>\n",
              "      <th>ft_3</th>\n",
              "      <th>ft_10</th>\n",
              "      <th>ft_13</th>\n",
              "      <th>ft_15</th>\n",
              "      <th>target</th>\n",
              "    </tr>\n",
              "  </thead>\n",
              "  <tbody>\n",
              "    <tr>\n",
              "      <th>0</th>\n",
              "      <td>0.615077</td>\n",
              "      <td>0.613003</td>\n",
              "      <td>0.799327</td>\n",
              "      <td>0.799327</td>\n",
              "      <td>0.613003</td>\n",
              "      <td>0.637116</td>\n",
              "      <td>0.0</td>\n",
              "    </tr>\n",
              "    <tr>\n",
              "      <th>1</th>\n",
              "      <td>0.607021</td>\n",
              "      <td>0.500917</td>\n",
              "      <td>0.795040</td>\n",
              "      <td>0.795040</td>\n",
              "      <td>0.500917</td>\n",
              "      <td>0.426930</td>\n",
              "      <td>0.0</td>\n",
              "    </tr>\n",
              "    <tr>\n",
              "      <th>2</th>\n",
              "      <td>0.519606</td>\n",
              "      <td>0.485687</td>\n",
              "      <td>0.844268</td>\n",
              "      <td>0.844268</td>\n",
              "      <td>0.485687</td>\n",
              "      <td>0.422920</td>\n",
              "      <td>0.0</td>\n",
              "    </tr>\n",
              "    <tr>\n",
              "      <th>3</th>\n",
              "      <td>0.447642</td>\n",
              "      <td>0.468166</td>\n",
              "      <td>0.619669</td>\n",
              "      <td>0.619669</td>\n",
              "      <td>0.468166</td>\n",
              "      <td>0.217933</td>\n",
              "      <td>0.0</td>\n",
              "    </tr>\n",
              "    <tr>\n",
              "      <th>4</th>\n",
              "      <td>0.721277</td>\n",
              "      <td>0.708431</td>\n",
              "      <td>0.434118</td>\n",
              "      <td>0.434118</td>\n",
              "      <td>0.708431</td>\n",
              "      <td>0.490727</td>\n",
              "      <td>0.0</td>\n",
              "    </tr>\n",
              "    <tr>\n",
              "      <th>...</th>\n",
              "      <td>...</td>\n",
              "      <td>...</td>\n",
              "      <td>...</td>\n",
              "      <td>...</td>\n",
              "      <td>...</td>\n",
              "      <td>...</td>\n",
              "      <td>...</td>\n",
              "    </tr>\n",
              "    <tr>\n",
              "      <th>995</th>\n",
              "      <td>0.543508</td>\n",
              "      <td>0.292592</td>\n",
              "      <td>0.370509</td>\n",
              "      <td>0.370509</td>\n",
              "      <td>0.292592</td>\n",
              "      <td>0.403558</td>\n",
              "      <td>1.0</td>\n",
              "    </tr>\n",
              "    <tr>\n",
              "      <th>996</th>\n",
              "      <td>0.396922</td>\n",
              "      <td>0.397024</td>\n",
              "      <td>0.702833</td>\n",
              "      <td>0.702833</td>\n",
              "      <td>0.397024</td>\n",
              "      <td>0.366262</td>\n",
              "      <td>1.0</td>\n",
              "    </tr>\n",
              "    <tr>\n",
              "      <th>997</th>\n",
              "      <td>0.630412</td>\n",
              "      <td>0.109805</td>\n",
              "      <td>0.346805</td>\n",
              "      <td>0.346805</td>\n",
              "      <td>0.109805</td>\n",
              "      <td>0.603661</td>\n",
              "      <td>1.0</td>\n",
              "    </tr>\n",
              "    <tr>\n",
              "      <th>998</th>\n",
              "      <td>0.370191</td>\n",
              "      <td>0.380920</td>\n",
              "      <td>0.672066</td>\n",
              "      <td>0.672066</td>\n",
              "      <td>0.380920</td>\n",
              "      <td>0.487530</td>\n",
              "      <td>1.0</td>\n",
              "    </tr>\n",
              "    <tr>\n",
              "      <th>999</th>\n",
              "      <td>0.464423</td>\n",
              "      <td>0.572881</td>\n",
              "      <td>0.658233</td>\n",
              "      <td>0.658233</td>\n",
              "      <td>0.572881</td>\n",
              "      <td>0.666053</td>\n",
              "      <td>1.0</td>\n",
              "    </tr>\n",
              "  </tbody>\n",
              "</table>\n",
              "<p>1000 rows × 7 columns</p>\n",
              "</div>"
            ],
            "text/plain": [
              "         ft_0      ft_2      ft_3     ft_10     ft_13     ft_15  target\n",
              "0    0.615077  0.613003  0.799327  0.799327  0.613003  0.637116     0.0\n",
              "1    0.607021  0.500917  0.795040  0.795040  0.500917  0.426930     0.0\n",
              "2    0.519606  0.485687  0.844268  0.844268  0.485687  0.422920     0.0\n",
              "3    0.447642  0.468166  0.619669  0.619669  0.468166  0.217933     0.0\n",
              "4    0.721277  0.708431  0.434118  0.434118  0.708431  0.490727     0.0\n",
              "..        ...       ...       ...       ...       ...       ...     ...\n",
              "995  0.543508  0.292592  0.370509  0.370509  0.292592  0.403558     1.0\n",
              "996  0.396922  0.397024  0.702833  0.702833  0.397024  0.366262     1.0\n",
              "997  0.630412  0.109805  0.346805  0.346805  0.109805  0.603661     1.0\n",
              "998  0.370191  0.380920  0.672066  0.672066  0.380920  0.487530     1.0\n",
              "999  0.464423  0.572881  0.658233  0.658233  0.572881  0.666053     1.0\n",
              "\n",
              "[1000 rows x 7 columns]"
            ]
          },
          "execution_count": 121,
          "metadata": {},
          "output_type": "execute_result"
        }
      ],
      "source": [
        "#we import normalizer\n",
        "from sklearn.preprocessing import MinMaxScaler\n",
        "#initialize it\n",
        "scaler = MinMaxScaler()\n",
        "#calculate all the necessary data to perform the normalization\n",
        "df_normalized = pd.DataFrame(scaler.fit_transform(df), columns = df.columns)\n",
        "df_normalized['target'] = targets\n",
        "df_normalized\n",
        "\n",
        "from sklearn.feature_selection import VarianceThreshold\n",
        "#we create a variance threshold object\n",
        "sel = VarianceThreshold(threshold=0.0281)\n",
        "#we apply the method to the data - this method does not create a new dataframe, just a numpy array\n",
        "wine_variance_removed = sel.fit_transform(df_normalized)\n",
        "#we can create a new dataframe using the get_feature_names_out() function to get the names of the selected columns\n",
        "wine_dataframe_variance_removed = pd.DataFrame(wine_variance_removed, columns = sel.get_feature_names_out())\n",
        "wine_dataframe_variance_removed"
      ]
    },
    {
      "cell_type": "code",
      "execution_count": 124,
      "metadata": {},
      "outputs": [
        {
          "name": "stdout",
          "output_type": "stream",
          "text": [
            "Selected Feature Indices (SelectKBest): [ 2  5  8 10 14]\n",
            "Selected Feature Indices (RFE with Random Forest): [ 2  5  8 10 14]\n",
            "Selected Feature Indices (RFE with Decision Tree): [ 2  5  6  7 14]\n"
          ]
        }
      ],
      "source": [
        "\n",
        "selector = SelectKBest(score_func=f_classif, k=5)\n",
        "X_selected = selector.fit_transform(features, targets)\n",
        "selected_indices = selector.get_support(indices=True)\n",
        "\n",
        "# Print the indices of the selected features\n",
        "print(\"Selected Feature Indices (SelectKBest):\", selected_indices)\n",
        "\n",
        "\n",
        "from sklearn.ensemble import RandomForestClassifier\n",
        "estimator = RandomForestClassifier(n_estimators=100, random_state=42)\n",
        "selector = RFE(estimator, n_features_to_select=5, step=1)\n",
        "selector = selector.fit(features, targets)\n",
        "selected_indices = np.where(selector.support_)[0]\n",
        "\n",
        "# Print the indices of the selected features\n",
        "print(\"Selected Feature Indices (RFE with Random Forest):\", selected_indices)\n",
        "\n",
        "from sklearn.tree import DecisionTreeClassifier\n",
        "estimator = DecisionTreeClassifier(random_state=42)\n",
        "selector = RFE(estimator, n_features_to_select=5, step=1)\n",
        "selector = selector.fit(features, targets)\n",
        "selected_indices = np.where(selector.support_)[0]\n",
        "\n",
        "# Print the indices of the selected features\n",
        "print(\"Selected Feature Indices (RFE with Decision Tree):\", selected_indices)"
      ]
    },
    {
      "cell_type": "code",
      "execution_count": 88,
      "metadata": {},
      "outputs": [
        {
          "data": {
            "image/png": "[encoded data removed]",
            "text/plain": [
              "<Figure size 640x480 with 1 Axes>"
            ]
          },
          "metadata": {},
          "output_type": "display_data"
        }
      ],
      "source": [
        "from sklearn.feature_selection import RFE\n",
        "from sklearn.tree import DecisionTreeRegressor\n",
        "\n",
        "# object which will be used to score the current selection\n",
        "estimator = DecisionTreeRegressor()\n",
        "\n",
        "# object performing recursive feature selection\n",
        "selector = RFE(estimator, n_features_to_select=5, step=1)\n",
        "\n",
        "selector = selector.fit(df_normalized.iloc[:,:-1].values, df_normalized['target'])\n",
        "\n",
        "selected_feature_indices = np.where(selector.support_)[0]\n",
        "selected_features_with_target = df_normalized.iloc[:, selected_feature_indices]\n",
        "\n",
        "for target_class in np.unique(targets):\n",
        "    plt.scatter(selected_features_with_target.loc[targets == target_class, selected_features_with_target.columns[0]], \n",
        "                selected_features_with_target.loc[targets == target_class, selected_features_with_target.columns[1]], \n",
        "                label=f'Class {target_class}')\n",
        "    \n",
        "\n",
        "plt.xlabel(selected_features_with_target.columns[0])\n",
        "plt.ylabel(selected_features_with_target.columns[1])\n",
        "plt.legend()\n",
        "plt.show()\n"
      ]
    }
  ],
  "metadata": {
    "colab": {
      "provenance": []
    },
    "kernelspec": {
      "display_name": "Python 3",
      "language": "python",
      "name": "python3"
    },
    "language_info": {
      "codemirror_mode": {
        "name": "ipython",
        "version": 3
      },
      "file_extension": ".py",
      "mimetype": "text/x-python",
      "name": "python",
      "nbconvert_exporter": "python",
      "pygments_lexer": "ipython3",
      "version": "3.11.0"
    },
    "toc": {
      "base_numbering": 1,
      "nav_menu": {},
      "number_sections": false,
      "sideBar": true,
      "skip_h1_title": false,
      "title_cell": "Table of Contents",
      "title_sidebar": "Contents",
      "toc_cell": false,
      "toc_position": {
        "height": "calc(100% - 180px)",
        "left": "10px",
        "top": "150px",
        "width": "357.865px"
      },
      "toc_section_display": true,
      "toc_window_display": false
    },
    "varInspector": {
      "cols": {
        "lenName": 16,
        "lenType": 16,
        "lenVar": 40
      },
      "kernels_config": {
        "python": {
          "delete_cmd_postfix": "",
          "delete_cmd_prefix": "del ",
          "library": "var_list.py",
          "varRefreshCmd": "print(var_dic_list())"
        },
        "r": {
          "delete_cmd_postfix": ") ",
          "delete_cmd_prefix": "rm(",
          "library": "var_list.r",
          "varRefreshCmd": "cat(var_dic_list()) "
        }
      },
      "types_to_exclude": [
        "module",
        "function",
        "builtin_function_or_method",
        "instance",
        "_Feature"
      ],
      "window_display": false
    }
  },
  "nbformat": 4,
  "nbformat_minor": 0
}
